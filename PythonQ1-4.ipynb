{
 "cells": [
  {
   "cell_type": "markdown",
   "id": "7a7cc1a1",
   "metadata": {},
   "source": [
    "Question: 1\n",
    "\n",
    "\n",
    "You have an input dictionary given,\n",
    "\n",
    "input_dict = {\"abc\":{\"def\":{\"ghi\":{\"jkl\":{\"mno\":{\"pqr\":{\"stu\":{\"vwx\":{\"yz\":\"you are finally here !!!\"}}}}}}}}}\n",
    "\n",
    "Task:  You have to write a Python function that will take this input and print it like that,\n",
    "\n",
    "output = {\"abc\":[\"def\",\"ghi\",\"jkl\",\"mno\",\"pqr\",\"stu\",\"vwx\",\"yz\"],\n",
    " \"def\":[\"ghi\",\"jkl\",\"mno\",\"pqr\",\"stu\",\"vwx\",\"yz\"],\n",
    " \"ghi\":[\"jkl\",\"mno\",\"pqr\",\"stu\",\"vwx\",\"yz\"],\n",
    " \"jkl\":[\"mno\",\"pqr\",\"stu\",\"vwx\",\"yz\"],\n",
    " \"mno\":[\"pqr\",\"stu\",\"vwx\",\"yz\"],\n",
    " \"pqr\":[\"stu\",\"vwx\",\"yz\"],\n",
    " \"stu\":[\"vwx\",\"yz\"],\n",
    " \"vwx\":[\"yz\"],\n",
    " \"yz\":[\"you are finally here !!!\"]}\n"
   ]
  },
  {
   "cell_type": "code",
   "execution_count": 6,
   "id": "bd434973",
   "metadata": {},
   "outputs": [
    {
     "name": "stdout",
     "output_type": "stream",
     "text": [
      "{'abc': ['def', 'ghi', 'jkl', 'mno', 'pqr', 'stu', 'vwx', 'yz'],\n",
      " 'def': ['ghi', 'jkl', 'mno', 'pqr', 'stu', 'vwx', 'yz'],\n",
      " 'ghi': ['jkl', 'mno', 'pqr', 'stu', 'vwx', 'yz'],\n",
      " 'jkl': ['mno', 'pqr', 'stu', 'vwx', 'yz'],\n",
      " 'mno': ['pqr', 'stu', 'vwx', 'yz'],\n",
      " 'pqr': ['stu', 'vwx', 'yz'],\n",
      " 'stu': ['vwx', 'yz'],\n",
      " 'vwx': ['yz'],\n",
      " 'yz': ['you are finally here !!!']}\n"
     ]
    }
   ],
   "source": [
    "from pprint import pprint\n",
    "\n",
    "input_dict = {\"abc\":{\"def\":{\"ghi\":{\"jkl\":{\"mno\":{\"pqr\":{\"stu\":{\"vwx\":{\"yz\":\"you are finally here !!!\"}}}}}}}}}\n",
    "\n",
    "def dict_arrange(input_d):\n",
    "    output = {}\n",
    "    for key, value in input_d.items():\n",
    "        if isinstance(value, dict):\n",
    "            dic = dict_arrange(value)\n",
    "            output.update(dic)\n",
    "            output[key] = list(reversed(dic))\n",
    "        else:\n",
    "            output[key] = [value]\n",
    "    return output\n",
    "\n",
    "pprint(dict_arrange(data))"
   ]
  },
  {
   "cell_type": "markdown",
   "id": "94340eb9",
   "metadata": {},
   "source": [
    "Question: 2\n",
    "\n",
    "\n",
    "Given an array of length ‘N’, where each element denotes the position of a stall. Now you have ‘N’ stalls and an integer ‘K’ which denotes the number of horses that are mad. To prevent the horses from hurting each other, you need to assign the horses to the stalls, such that the minimum distance between any two of them is as large as possible. Return the largest minimum distance.\n",
    "\n",
    "array: 1,2,4,8,9  &  k=3\n",
    "\n",
    "O/P: 3\n",
    "\n",
    "Explanation: 1st horse at stall 1, 2nd horse at stall 4 and 3rd horse at stall 8"
   ]
  },
  {
   "cell_type": "code",
   "execution_count": 14,
   "id": "1b65ecd9",
   "metadata": {},
   "outputs": [
    {
     "name": "stdout",
     "output_type": "stream",
     "text": [
      "3\n"
     ]
    }
   ],
   "source": [
    "# Function to check whether a distance is\n",
    "# keeping all the horses in the stall\n",
    "\n",
    "def ok(v,x,c):\n",
    "    n=len(v)\n",
    "    count=1\n",
    "    d=v[0]\n",
    "    for i in range(1,n):\n",
    "        if(v[i]-d>=x):\n",
    "            d=v[i]\n",
    "            count=count+1\n",
    "        else:\n",
    "            continue\n",
    "    if(count>=c):\n",
    "        return True\n",
    "     \n",
    "    return False\n",
    "     \n",
    "# Function to find the maximum possible\n",
    "# minimum distance between two horses\n",
    "def aggressive_horses(v,n,k):\n",
    "    ans=-1\n",
    "    maxi=0\n",
    "    for i in range(n):\n",
    "        maxi=max(maxi,v[i])\n",
    "     \n",
    "    # Loop from 1 to max limit of the\n",
    "    # barn length (here = 10^9)\n",
    "     \n",
    "    for i in range(1,maxi+1):\n",
    "        if(ok(v,i,k)):\n",
    "            ans=i\n",
    "        else:\n",
    "            break\n",
    "     \n",
    "    return ans\n",
    "     \n",
    "# Driver code\n",
    "K=3\n",
    "arr=[1,2,4,8,9]\n",
    "N=len(arr)\n",
    " \n",
    "# Function call\n",
    "ans=aggressive_horses(arr,N,K)\n",
    "print(ans)"
   ]
  },
  {
   "cell_type": "markdown",
   "id": "f47e82c8",
   "metadata": {},
   "source": [
    "Question: 3\n",
    "Mr. Karthiken works in a door mat manufacturing company. One day, he designed a new door mat with the following specifications:\n",
    "\n",
    "             a) Mat size must be N X M. (N is an odd natural number, and M is 3 times N.)\n",
    "              b) The design should have ‘WELCOME’ written in the center.\n",
    "              c) The design pattern should only use |, . and – characters.\n",
    "\n",
    "    Sample Design is given above image, Write a python code for this.\n",
    "\n",
    "\n",
    "\n"
   ]
  },
  {
   "cell_type": "code",
   "execution_count": 20,
   "id": "e581e883",
   "metadata": {},
   "outputs": [
    {
     "name": "stdout",
     "output_type": "stream",
     "text": [
      "Enter height\n",
      "7\n",
      "---------.|.---------\n",
      "------.|..|..|.------\n",
      "---.|..|..|..|..|.---\n",
      "-------WELCOME-------\n",
      "---.|..|..|..|..|.---\n",
      "------.|..|..|.------\n",
      "---------.|.---------\n"
     ]
    }
   ],
   "source": [
    "height = int(input(\"Enter height\\n\"))\n",
    "width = height*3\n",
    "j=1\n",
    "for i in range(height):\n",
    "    if i<height//2 :\n",
    "      print((\".|.\"*j).center(width,\"-\"))\n",
    "      j+=2\n",
    "    elif i==height//2:\n",
    "        print(\"WELCOME\".center(width,\"-\"))\n",
    "    elif i>height//2 :\n",
    "      j-=2\n",
    "      print((\".|.\"*j).center(width,\"-\"))"
   ]
  },
  {
   "cell_type": "markdown",
   "id": "c36d7d7f",
   "metadata": {},
   "source": [
    "Question: 4\n",
    "\n",
    "Given an array nums of n integers, return an array of all the unique quadruplets [nums[a], nums[b], nums[c], nums[d]] such that:\n",
    "\n",
    "   a) 0 <= a, b, c, d < n\n",
    "   b) a, b, c, and d are distinct.\n",
    "   c) nums[a] + nums[b] + nums[c] + nums[d] == target"
   ]
  },
  {
   "cell_type": "code",
   "execution_count": 22,
   "id": "8895c035",
   "metadata": {},
   "outputs": [],
   "source": [
    "def fourSum(self, nums, target):\n",
    "    def findNsum(nums, target, N, result, results):\n",
    "        if len(nums) < N or N < 2 or target < nums[0]*N or target > nums[-1]*N:  # early termination\n",
    "            return\n",
    "        if N == 2: # two pointers solve sorted 2-sum problem\n",
    "            l,r = 0,len(nums)-1\n",
    "            while l < r:\n",
    "                s = nums[l] + nums[r]\n",
    "                if s == target:\n",
    "                    results.append(result + [nums[l], nums[r]])\n",
    "                    l += 1\n",
    "                    while l < r and nums[l] == nums[l-1]:\n",
    "                        l += 1\n",
    "                elif s < target:\n",
    "                    l += 1\n",
    "                else:\n",
    "                    r -= 1\n",
    "        else: # recursively reduce N\n",
    "            for i in range(len(nums)-N+1):\n",
    "                if i == 0 or (i > 0 and nums[i-1] != nums[i]):\n",
    "                    findNsum(nums[i+1:], target-nums[i], N-1, result+[nums[i]], results)\n",
    "\n",
    "    results = []\n",
    "    findNsum(sorted(nums), target, 4, [], results)\n",
    "    return results"
   ]
  },
  {
   "cell_type": "code",
   "execution_count": null,
   "id": "72314748",
   "metadata": {},
   "outputs": [],
   "source": []
  }
 ],
 "metadata": {
  "kernelspec": {
   "display_name": "Python 3 (ipykernel)",
   "language": "python",
   "name": "python3"
  },
  "language_info": {
   "codemirror_mode": {
    "name": "ipython",
    "version": 3
   },
   "file_extension": ".py",
   "mimetype": "text/x-python",
   "name": "python",
   "nbconvert_exporter": "python",
   "pygments_lexer": "ipython3",
   "version": "3.10.9"
  }
 },
 "nbformat": 4,
 "nbformat_minor": 5
}
